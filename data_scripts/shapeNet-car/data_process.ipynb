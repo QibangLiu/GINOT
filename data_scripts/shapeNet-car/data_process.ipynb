{
 "cells": [
  {
   "cell_type": "code",
   "execution_count": 11,
   "metadata": {},
   "outputs": [],
   "source": [
    "#import gdown\n",
    "import numpy as np\n",
    "import matplotlib.pyplot as plt\n",
    "import os\n",
    "import pyvista as pv\n",
    "from collections import Counter\n",
    "pv.set_jupyter_backend('client')\n",
    "pv.global_theme.trame.server_proxy_enabled=True\n",
    "# pv.global_theme.trame.jupyter_extension_enabled=True"
   ]
  },
  {
   "cell_type": "code",
   "execution_count": 12,
   "metadata": {},
   "outputs": [
    {
     "name": "stdout",
     "output_type": "stream",
     "text": [
      "car-cfd.tgz already exists.\n"
     ]
    }
   ],
   "source": [
    "\n",
    "num_cell_nodes = {\n",
    "    pv.CellType.EMPTY_CELL: 0,\n",
    "    pv.CellType.VERTEX: 1,\n",
    "    pv.CellType.LINE: 2,\n",
    "    pv.CellType.TRIANGLE: 3,\n",
    "    pv.CellType.PIXEL: 4,\n",
    "    pv.CellType.QUAD: 4,\n",
    "    pv.CellType.TETRA: 4,\n",
    "    pv.CellType.VOXEL: 8,\n",
    "    pv.CellType.HEXAHEDRON: 8,\n",
    "    pv.CellType.WEDGE: 6,\n",
    "    pv.CellType.PYRAMID: 5,\n",
    "    pv.CellType.PENTAGONAL_PRISM: 10,\n",
    "    pv.CellType.HEXAGONAL_PRISM: 12,\n",
    "\n",
    "    # Quadratic elements\n",
    "    pv.CellType.QUADRATIC_EDGE: 3,\n",
    "    pv.CellType.QUADRATIC_TRIANGLE: 6,\n",
    "    pv.CellType.QUADRATIC_QUAD: 8,\n",
    "    pv.CellType.QUADRATIC_TETRA: 10,\n",
    "    pv.CellType.QUADRATIC_HEXAHEDRON: 20,\n",
    "    pv.CellType.QUADRATIC_WEDGE: 15,\n",
    "    pv.CellType.QUADRATIC_PYRAMID: 13,\n",
    "    pv.CellType.BIQUADRATIC_QUAD: 9,\n",
    "    pv.CellType.TRIQUADRATIC_HEXAHEDRON: 27,\n",
    "    pv.CellType.TRIQUADRATIC_PYRAMID: 19,\n",
    "    pv.CellType.QUADRATIC_LINEAR_QUAD: 6,\n",
    "    pv.CellType.QUADRATIC_LINEAR_WEDGE: 12,\n",
    "    pv.CellType.BIQUADRATIC_QUADRATIC_WEDGE: 18,\n",
    "    pv.CellType.BIQUADRATIC_QUADRATIC_HEXAHEDRON: 24,\n",
    "    pv.CellType.BIQUADRATIC_TRIANGLE: 7,\n",
    "    pv.CellType.CUBIC_LINE: 4,\n",
    "}\n",
    "\n",
    "\n",
    "def download_data(data_path):\n",
    "    file_names = [\"car-cfd.tgz\"]\n",
    "    # Extract from the shared URL\n",
    "    file_id = [\"1SWU-b4GrfFkWUrvxgEVe4XuU9iVvhrSg\"]\n",
    "    for i in range(len(file_names)):\n",
    "        if os.path.exists(data_path + file_names[i]):\n",
    "            print(f\"{file_names[i]} already exists.\")\n",
    "        else:\n",
    "            print(f\"Downloading {file_names[i]}...\")\n",
    "            url = f\"https://drive.google.com/uc?id={file_id[i]}\"\n",
    "            gdown.download(url, data_path,)\n",
    "\n",
    "    current_path = os.getcwd()\n",
    "    os.chdir(data_path)\n",
    "    if not os.path.exists(\"./training_data\"):\n",
    "        os.system(\"tar -xvzf car-cfd.tgz\")\n",
    "    os.chdir(current_path)\n",
    "\n",
    "\n",
    "data_path = \"/work/nvme/bbka/qibang/repository_WNbbka/GINTO_data/shapeNet-car/\"\n",
    "download_data(data_path)\n"
   ]
  },
  {
   "cell_type": "code",
   "execution_count": 20,
   "metadata": {},
   "outputs": [],
   "source": [
    "\n",
    "data_base = \"/work/nvme/bbka/qibang/repository_WNbbka/GINTO_data/shapeNet-car/training_data/param2/7de59e150d4712b7b3cf5236f651a8e6\"\n",
    "velo = np.load(data_base+\"/velo.npy\")\n",
    "press = np.load(data_base+\"/press.npy\")"
   ]
  },
  {
   "cell_type": "code",
   "execution_count": 23,
   "metadata": {},
   "outputs": [
    {
     "data": {
      "application/vnd.jupyter.widget-view+json": {
       "model_id": "0022602a81ad4491bbcdec990fcd368e",
       "version_major": 2,
       "version_minor": 0
      },
      "text/plain": [
       "Widget(value='<iframe src=\"/proxy/39291/index.html?ui=P_0x7fe7a2324af0_6&reconnect=auto\" class=\"pyvista\" style…"
      ]
     },
     "metadata": {},
     "output_type": "display_data"
    },
    {
     "name": "stdout",
     "output_type": "stream",
     "text": [
      "Cell Types:\n",
      "[9 9 9 ... 9 9 9]\n",
      "Points:\n",
      "[[-0.701313   0.565     -2.155    ]\n",
      " [-0.675      0.515      2.17109  ]\n",
      " [-0.715      0.575     -2.13363  ]\n",
      " ...\n",
      " [-0.246936   0.820777   2.27622  ]\n",
      " [-0.249557   0.769729   2.24082  ]\n",
      " [-0.0831856  0.775402   2.24448  ]]\n",
      "Cells:\n",
      "[   4    0  996 ... 1513 3681 2633]\n",
      "Field Data:\n",
      "pyvista DataSetAttributes\n",
      "Association     : POINT\n",
      "Active Scalars  : point_scalars\n",
      "Active Vectors  : None\n",
      "Active Texture  : None\n",
      "Active Normals  : None\n",
      "Contains arrays :\n",
      "    point_scalars           float32    (3682,)              SCALARS\n"
     ]
    }
   ],
   "source": [
    "mesh = pv.read(data_base + \"/quadpress_smpl.vtk\")\n",
    "\n",
    "mesh.plot()\n",
    "# Get the points, cells, and field data from the mesh\n",
    "points = mesh.points\n",
    "cells = mesh.cells\n",
    "field_data = mesh.point_data\n",
    "cell_types = mesh.celltypes\n",
    "print(\"Cell Types:\")\n",
    "print(cell_types)\n",
    "print(\"Points:\")\n",
    "print(points)\n",
    "\n",
    "print(\"Cells:\")\n",
    "print(cells)\n",
    "\n",
    "print(\"Field Data:\")\n",
    "print(field_data)"
   ]
  },
  {
   "cell_type": "code",
   "execution_count": 24,
   "metadata": {},
   "outputs": [
    {
     "name": "stdout",
     "output_type": "stream",
     "text": [
      "number of bc point 3586\n"
     ]
    },
    {
     "data": {
      "application/vnd.jupyter.widget-view+json": {
       "model_id": "62fdbf20ed2c447097bde25f71ad2a5c",
       "version_major": 2,
       "version_minor": 0
      },
      "text/plain": [
       "Widget(value='<iframe src=\"/proxy/39291/index.html?ui=P_0x7fe7a2326380_7&reconnect=auto\" class=\"pyvista\" style…"
      ]
     },
     "metadata": {},
     "output_type": "display_data"
    },
    {
     "name": "stdout",
     "output_type": "stream",
     "text": [
      " JS Error => TypeError: Cannot destructure property 'topic' of 'u' as it is undefined.\n"
     ]
    }
   ],
   "source": [
    "# Find the boundary points based on the cells\n",
    "num_nodes = np.array([num_cell_nodes[cell_type]\n",
    "                     for cell_type in cell_types])\n",
    "\n",
    "connectivity = []\n",
    "index = 0\n",
    "for n in num_nodes:\n",
    "    connectivity.append(cells[index: index + n])\n",
    "    index += n\n",
    "unique_elements = np.unique(cells)\n",
    "boundary_points = points[unique_elements]\n",
    "print(\"number of bc point\", len(boundary_points))\n",
    "boundary_mesh = pv.PolyData(boundary_points)\n",
    "boundary_mesh.plot()"
   ]
  },
  {
   "cell_type": "code",
   "execution_count": 8,
   "metadata": {},
   "outputs": [
    {
     "data": {
      "text/plain": [
       "'/proxy/'"
      ]
     },
     "execution_count": 8,
     "metadata": {},
     "output_type": "execute_result"
    }
   ],
   "source": [
    "pv.global_theme.trame.server_proxy_prefix"
   ]
  },
  {
   "cell_type": "code",
   "execution_count": null,
   "metadata": {},
   "outputs": [],
   "source": []
  },
  {
   "cell_type": "code",
   "execution_count": null,
   "metadata": {},
   "outputs": [],
   "source": []
  }
 ],
 "metadata": {
  "kernelspec": {
   "display_name": "mybase",
   "language": "python",
   "name": "mybase"
  },
  "language_info": {
   "codemirror_mode": {
    "name": "ipython",
    "version": 3
   },
   "file_extension": ".py",
   "mimetype": "text/x-python",
   "name": "python",
   "nbconvert_exporter": "python",
   "pygments_lexer": "ipython3",
   "version": "3.10.9"
  }
 },
 "nbformat": 4,
 "nbformat_minor": 4
}
