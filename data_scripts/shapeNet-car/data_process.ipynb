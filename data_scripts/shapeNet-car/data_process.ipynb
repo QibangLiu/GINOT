{
 "cells": [
  {
   "cell_type": "code",
   "execution_count": 1,
   "metadata": {},
   "outputs": [
    {
     "name": "stderr",
     "output_type": "stream",
     "text": [
      "/u/qibang/.local/lib/python3.10/site-packages/pyvista/plotting/themes.py:1528: UserWarning: Enabling server_proxy will disable jupyter_extension\n",
      "  warnings.warn(\"Enabling server_proxy will disable jupyter_extension\")\n"
     ]
    }
   ],
   "source": [
    "import gdown\n",
    "import numpy as np\n",
    "import matplotlib.pyplot as plt\n",
    "import os\n",
    "import pyvista as pv\n",
    "from collections import Counter\n",
    "import natsort\n",
    "pv.set_jupyter_backend('client')\n",
    "pv.global_theme.trame.server_proxy_enabled = True\n",
    "# pv.global_theme.trame.jupyter_extension_enabled=True\n"
   ]
  },
  {
   "cell_type": "code",
   "execution_count": 2,
   "metadata": {},
   "outputs": [
    {
     "name": "stdout",
     "output_type": "stream",
     "text": [
      "car-cfd.tgz already exists.\n"
     ]
    }
   ],
   "source": [
    "\n",
    "num_cell_nodes = {\n",
    "    pv.CellType.EMPTY_CELL: 0,\n",
    "    pv.CellType.VERTEX: 1,\n",
    "    pv.CellType.LINE: 2,\n",
    "    pv.CellType.TRIANGLE: 3,\n",
    "    pv.CellType.PIXEL: 4,\n",
    "    pv.CellType.QUAD: 4,\n",
    "    pv.CellType.TETRA: 4,\n",
    "    pv.CellType.VOXEL: 8,\n",
    "    pv.CellType.HEXAHEDRON: 8,\n",
    "    pv.CellType.WEDGE: 6,\n",
    "    pv.CellType.PYRAMID: 5,\n",
    "    pv.CellType.PENTAGONAL_PRISM: 10,\n",
    "    pv.CellType.HEXAGONAL_PRISM: 12,\n",
    "\n",
    "    # Quadratic elements\n",
    "    pv.CellType.QUADRATIC_EDGE: 3,\n",
    "    pv.CellType.QUADRATIC_TRIANGLE: 6,\n",
    "    pv.CellType.QUADRATIC_QUAD: 8,\n",
    "    pv.CellType.QUADRATIC_TETRA: 10,\n",
    "    pv.CellType.QUADRATIC_HEXAHEDRON: 20,\n",
    "    pv.CellType.QUADRATIC_WEDGE: 15,\n",
    "    pv.CellType.QUADRATIC_PYRAMID: 13,\n",
    "    pv.CellType.BIQUADRATIC_QUAD: 9,\n",
    "    pv.CellType.TRIQUADRATIC_HEXAHEDRON: 27,\n",
    "    pv.CellType.TRIQUADRATIC_PYRAMID: 19,\n",
    "    pv.CellType.QUADRATIC_LINEAR_QUAD: 6,\n",
    "    pv.CellType.QUADRATIC_LINEAR_WEDGE: 12,\n",
    "    pv.CellType.BIQUADRATIC_QUADRATIC_WEDGE: 18,\n",
    "    pv.CellType.BIQUADRATIC_QUADRATIC_HEXAHEDRON: 24,\n",
    "    pv.CellType.BIQUADRATIC_TRIANGLE: 7,\n",
    "    pv.CellType.CUBIC_LINE: 4,\n",
    "}\n",
    "\n",
    "\n",
    "def download_data(data_path):\n",
    "    # download the data from:\n",
    "    # https://drive.google.com/drive/folders/1PMuOGUO2A9rzAP3YM8ra3v8ybE8X9foh\n",
    "    file_names = [\"car-cfd.tgz\"]\n",
    "    # Extract from the shared URL\n",
    "    file_id = [\"1SWU-b4GrfFkWUrvxgEVe4XuU9iVvhrSg\"]\n",
    "    for i in range(len(file_names)):\n",
    "        if os.path.exists(data_path + file_names[i]):\n",
    "            print(f\"{file_names[i]} already exists.\")\n",
    "        else:\n",
    "            print(f\"Downloading {file_names[i]}...\")\n",
    "            url = f\"https://drive.google.com/uc?id={file_id[i]}\"\n",
    "            gdown.download(url, data_path,)\n",
    "\n",
    "    current_path = os.getcwd()\n",
    "    os.chdir(data_path)\n",
    "    if not os.path.exists(\"./training_data\"):\n",
    "        os.system(\"tar -xvzf car-cfd.tgz\")\n",
    "    os.chdir(current_path)\n",
    "\n",
    "\n",
    "data_path = \"/work/nvme/bbka/qibang/repository_WNbbka/GINTO_data/shapeNet-car/\"\n",
    "download_data(data_path)\n"
   ]
  },
  {
   "cell_type": "code",
   "execution_count": 3,
   "metadata": {},
   "outputs": [],
   "source": [
    "params_paths = [f.path for f in os.scandir(\n",
    "    data_path+\"/training_data\") if f.is_dir()]\n",
    "params_paths = natsort.natsorted(params_paths)\n",
    "samples_path = [f.path for params_p in params_paths for f in os.scandir(\n",
    "    params_p) if f.is_dir()]\n",
    "samples_path = natsort.natsorted(samples_path)\n"
   ]
  },
  {
   "cell_type": "code",
   "execution_count": 11,
   "metadata": {},
   "outputs": [
    {
     "data": {
      "application/vnd.jupyter.widget-view+json": {
       "model_id": "29028be139e1455fbfb3bbb3e32bbae1",
       "version_major": 2,
       "version_minor": 0
      },
      "text/plain": [
       "Widget(value='<iframe src=\"/proxy/38957/index.html?ui=P_0x7f0d14b4f220_6&reconnect=auto\" class=\"pyvista\" style…"
      ]
     },
     "metadata": {},
     "output_type": "display_data"
    }
   ],
   "source": [
    "id = 4\n",
    "\n",
    "data_base = samples_path[id]\n",
    "\n",
    "press = np.load(data_base+\"/press.npy\")\n",
    "mesh = pv.read(data_base + \"/quadpress_smpl.vtk\")\n",
    "# Get the points, cells, and field data from the mesh\n",
    "mesh.plot()"
   ]
  },
  {
   "cell_type": "code",
   "execution_count": 28,
   "metadata": {},
   "outputs": [
    {
     "name": "stdout",
     "output_type": "stream",
     "text": [
      "number of points 3682\n",
      "number of cells 17920\n",
      "press shape (3682,)\n"
     ]
    }
   ],
   "source": [
    "points = mesh.points\n",
    "cells = mesh.cells\n",
    "field_data = mesh.point_data\n",
    "cell_types = mesh.celltypes\n",
    "unique_elements = np.unique(cells)\n",
    "print(\"number of points\", len(points))\n",
    "print(\"number of cells\", len(cells))\n",
    "print(\"press shape\", press.shape)"
   ]
  },
  {
   "cell_type": "code",
   "execution_count": null,
   "metadata": {},
   "outputs": [],
   "source": [
    "def check_boundary_points(data_base):\n",
    "    mesh = pv.read(data_base + \"/quadpress_smpl.vtk\")\n",
    "    cells = mesh.cells\n",
    "    unique_elements = np.unique(cells)\n",
    "    return unique_elements\n",
    "\n",
    "boundary_idxs=[check_boundary_points(samples_path[i]) for i in range(len(samples_path))]\n",
    "for i in range(len(boundary_idxs)-1):\n",
    "    if any(boundary_idxs[i] != boundary_idxs[i+1]):\n",
    "        print(\"boundary points are different\")\n",
    "        break\n"
   ]
  },
  {
   "cell_type": "code",
   "execution_count": 27,
   "metadata": {},
   "outputs": [],
   "source": [
    "np.savetxt(data_path+\"car-pressure-data/boundary_idxs.txt\", boundary_idxs[0], fmt='%d')"
   ]
  },
  {
   "cell_type": "code",
   "execution_count": null,
   "metadata": {},
   "outputs": [],
   "source": [
    "# Find the boundary points based on the cells\n",
    "num_nodes = np.array([num_cell_nodes[cell_type]\n",
    "                     for cell_type in cell_types])\n",
    "\n",
    "connectivity = []\n",
    "index = 0\n",
    "for n in num_nodes:\n",
    "    connectivity.append(cells[index: index + n])\n",
    "    index += n\n",
    "unique_elements = np.unique(cells)\n",
    "boundary_points = points[unique_elements]\n",
    "print(\"number of bc point\", len(boundary_points))\n",
    "boundary_mesh = pv.PolyData(boundary_points)\n",
    "boundary_mesh.plot()\n",
    "\n",
    "# %\n",
    "# # %%\n",
    "\n"
   ]
  }
 ],
 "metadata": {
  "kernelspec": {
   "display_name": "Python 3",
   "language": "python",
   "name": "python3"
  },
  "language_info": {
   "codemirror_mode": {
    "name": "ipython",
    "version": 3
   },
   "file_extension": ".py",
   "mimetype": "text/x-python",
   "name": "python",
   "nbconvert_exporter": "python",
   "pygments_lexer": "ipython3",
   "version": "3.10.9"
  }
 },
 "nbformat": 4,
 "nbformat_minor": 4
}
