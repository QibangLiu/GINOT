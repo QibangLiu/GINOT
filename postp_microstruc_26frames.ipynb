{
 "cells": [
  {
   "cell_type": "code",
   "execution_count": 1,
   "metadata": {},
   "outputs": [],
   "source": [
    "import matplotlib.pyplot as plt\n",
    "import numpy as np\n",
    "import torch\n",
    "from models.microstruc_multiFrames_GINOT import LoadModel\n",
    "from models import configs\n",
    "from torch.utils.data import DataLoader\n",
    "from tqdm import tqdm\n",
    "import time\n",
    "import pyvista as pv\n",
    "import json\n",
    "import pickle\n",
    "from IPython.display import HTML, display_html\n",
    "device = \"cuda\" if torch.cuda.is_available() else \"cpu\"\n",
    "\n"
   ]
  },
  {
   "cell_type": "code",
   "execution_count": 11,
   "metadata": {},
   "outputs": [],
   "source": [
    "# TODO: change backend to \"html\" for higher resolution and interactive plots\n",
    "pv_bc = \"html\"  # \"static\", \"html\", \"client\"\n",
    "b_GIF=False\n",
    "pv.set_jupyter_backend(pv_bc)\n",
    "# pv.global_theme.trame.jupyter_extension_enabled = True\n",
    "# pv.global_theme.trame.server_proxy_enabled = True\n",
    "if pv_bc == \"static\":\n",
    "    window_size = (1280*2, 700*2)\n",
    "else:\n",
    "    window_size = (1360, 800)\n",
    "show_edges = True\n"
   ]
  },
  {
   "cell_type": "code",
   "execution_count": 3,
   "metadata": {},
   "outputs": [
    {
     "name": "stdout",
     "output_type": "stream",
     "text": [
      "Total number of parameters of Geo encoder: 852529, 852529 of which are trainable\n",
      "Total number of parameters of NTO model: 2291071, 2291071 of which are trainable\n",
      "filebase:  /work/hdd/bdsy/qibang/repository_Wbdsy/GINOT/models/saved_weights/microstruc_26frames_GINOT\n",
      "trunk_args:  {'embed_dim': 128, 'cross_attn_layers': 4, 'num_heads': 8, 'num_frames': 26, 'dropout': 0.0, 'padding_value': -1000}\n",
      "branch_args:  {'input_channels': 2, 'out_c': 128, 'latent_d': None, 'width': 128, 'n_point': 128, 'n_sample': 8, 'radius': 0.2, 'd_hidden': [128, 128], 'num_heads': 4, 'cross_attn_layers': 2, 'self_attn_layers': 2, 'fps_method': 'fps', 'pc_padding_val': -1000, 'dropout': 0.0}\n"
     ]
    }
   ],
   "source": [
    "configs_load = configs.microstruc_multiFrames_GINOT_configs()\n",
    "\n",
    "filebase = configs_load[\"filebase\"]\n",
    "trunk_args = configs_load[\"trunk_args\"]\n",
    "branch_args = configs_load[\"branch_args\"]\n",
    "ginot = LoadModel(filebase, branch_args, trunk_args)\n",
    "print(\"filebase: \", filebase)\n",
    "print(\"trunk_args: \", trunk_args)\n",
    "print(\"branch_args: \", branch_args)\n",
    "\n"
   ]
  },
  {
   "cell_type": "code",
   "execution_count": 4,
   "metadata": {},
   "outputs": [
    {
     "data": {
      "text/plain": [
       "<matplotlib.legend.Legend at 0x7ffaf4ceaec0>"
      ]
     },
     "execution_count": 4,
     "metadata": {},
     "output_type": "execute_result"
    },
    {
     "data": {
      "image/png": "[encoded data removed]",
      "text/plain": [
       "<Figure size 640x480 with 1 Axes>"
      ]
     },
     "metadata": {},
     "output_type": "display_data"
    }
   ],
   "source": [
    "loss_file = filebase + \"/logs.json\"\n",
    "with open(loss_file, 'r') as f:\n",
    "    data = json.load(f)\n",
    "plt.plot(data['loss'], label='train')\n",
    "plt.plot(data['val_loss'], label='test')\n",
    "plt.yscale('log')\n",
    "plt.xlabel('Epoch')\n",
    "plt.ylabel('Loss')\n",
    "plt.legend()\n",
    "\n"
   ]
  },
  {
   "cell_type": "code",
   "execution_count": 5,
   "metadata": {},
   "outputs": [],
   "source": [
    "\n",
    "\n",
    "def predict(data_loader, ginot, su_inverse, error_fn=None):\n",
    "    y_pred = []\n",
    "    y_true = []\n",
    "    verts_all = []\n",
    "    pc_all = []\n",
    "    sample_ids = np.empty(0, dtype=int)\n",
    "    error = []\n",
    "    ginot.eval()\n",
    "    with torch.no_grad():\n",
    "        for data in tqdm(data_loader, desc=\"Predicting\"):\n",
    "            pc = data[0].to(device)  # (B, N, 2)\n",
    "            xyt = data[1].to(device)  # (B, N, 2)\n",
    "            y_true_batch = data[2].to(device)  # (B, N)\n",
    "            mask = (y_true_batch != ginot.padding_value)\n",
    "            pred = ginot(xyt, pc)\n",
    "            pred = su_inverse(pred)\n",
    "            y_true_batch = su_inverse(y_true_batch)\n",
    "            pred = [x[i].view(-1, *i.shape[1:]).cpu().detach().numpy()\n",
    "                    for x, i in zip(pred, mask)]\n",
    "            y_true_batch = [x[i].view(-1, *i.shape[1:]).cpu().detach().numpy()\n",
    "                            for x, i in zip(y_true_batch, mask)]\n",
    "            if error_fn is not None:\n",
    "                error = error.append(error_fn(pred, y_true_batch))\n",
    "            else:\n",
    "                y_pred = y_pred+pred\n",
    "                y_true = y_true+y_true_batch\n",
    "                mask_verts = (\n",
    "                    xyt != configs.PADDING_VALUE).cpu().detach().numpy()\n",
    "                verts_all = verts_all+[x[i].view(-1, *i.shape[1:]).cpu().detach().numpy()\n",
    "                                       for x, i in zip(xyt, mask_verts)]\n",
    "                pc_all = pc_all+[x.cpu().detach() for x in pc]\n",
    "                sample_ids = np.append(\n",
    "                    sample_ids, data[3].cpu().detach().numpy())\n",
    "    if error_fn is not None:\n",
    "        return np.concatenate(error)\n",
    "    else:\n",
    "        return y_pred, y_true, verts_all, pc_all, sample_ids\n",
    "\n",
    "\n",
    "def cal_l2_error(y_pred, y_true):\n",
    "    error_s = []\n",
    "    for y_p, y_t in zip(y_pred, y_true):\n",
    "        s_p, s_t = y_p[:, :, 0], y_t[:, :, 0]\n",
    "        ux_p, ux_t = y_p[:, :, 1], y_t[:, :, 1]\n",
    "        uy_p, uy_t = y_p[:, :, 2], y_t[:, :, 2]\n",
    "        e_s = np.linalg.norm(s_p-s_t)/np.linalg.norm(s_t)\n",
    "        e_ux = np.linalg.norm(ux_p-ux_t)/np.linalg.norm(ux_t)\n",
    "        e_uy = np.linalg.norm(uy_p-uy_t)/np.linalg.norm(uy_t)\n",
    "        error_s.append((e_s+e_ux+e_uy)/3)\n",
    "    error_s = np.array(error_s)\n",
    "    return error_s\n",
    "\n"
   ]
  },
  {
   "cell_type": "code",
   "execution_count": 6,
   "metadata": {},
   "outputs": [],
   "source": [
    "# train_dataloader, test_dataloader, _, su_inverse = configs.LoadDataMicroSturcGeo(\n",
    "#     bs_train=32, bs_test=32, num_frames=26, load_cells=\"NO\")\n",
    "# time_start = time.time()\n",
    "# error_s = predict(\n",
    "#     train_dataloader, ginot, su_inverse, error_fn=cal_l2_error)\n",
    "# time_end = time.time()\n",
    "# print(f\"Time taken to predict all samples: {time_end-time_start:.2e} seconds\")\n",
    "# print(\n",
    "#     f\"Time taken to predict one sample: {(time_end-time_start)/len(error_s):.2e} seconds\")\n",
    "# sort_idx = np.argsort(error_s)\n",
    "# mean, std = np.mean(error_s), np.std(error_s)\n",
    "# print(f\"Mean L2 error of train dataset: {mean}, std: {std}\")"
   ]
  },
  {
   "cell_type": "code",
   "execution_count": 7,
   "metadata": {},
   "outputs": [],
   "source": [
    "\n",
    "def save_load_results(b_predict=True, save=False):\n",
    "    if b_predict:\n",
    "        _, test_dataloader, _, su_inverse = configs.LoadDataMicroSturcGeo(\n",
    "            bs_train=32, bs_test=32, num_frames=26, load_cells=\"NO\")\n",
    "        time_start = time.time()\n",
    "        su_pred_test, su_true_test, verts_all_test, pc_all_test, sample_ids_test = predict(\n",
    "            test_dataloader, ginot, su_inverse)\n",
    "        time_end = time.time()\n",
    "        print(\n",
    "            f\"Time taken to predict one sample: {(time_end-time_start)/len(su_pred_test):.2e} seconds\")\n",
    "        data_dic = {\"su_pred_test\": su_pred_test, \"su_true_test\": su_true_test, \"pc_all_test\": pc_all_test,\n",
    "                    \"verts_all_test\": verts_all_test, \"sample_ids_test\": sample_ids_test}\n",
    "        if save:\n",
    "            with open(filebase+'/test_results.pkl', 'wb') as f:\n",
    "                pickle.dump(data_dic, f)\n",
    "    else:\n",
    "        # read the results from the pickle file\n",
    "        with open(filebase+'/test_results.pkl', 'rb') as f:\n",
    "            results = pickle.load(f)\n",
    "            su_pred_test = results['su_pred_test']\n",
    "            su_true_test = results['su_true_test']\n",
    "            verts_all_test = results['verts_all_test']\n",
    "            sample_ids_test = results['sample_ids_test']\n",
    "            pc_all_test = results['pc_all_test']\n",
    "    return su_pred_test, su_true_test, verts_all_test, pc_all_test, sample_ids_test\n",
    "\n",
    "\n",
    "su_pred_test, su_true_test, verts_all_test, pc_all_test, sample_ids_test = save_load_results(\n",
    "    b_predict=False, save=False)\n",
    "\n"
   ]
  },
  {
   "cell_type": "code",
   "execution_count": 8,
   "metadata": {},
   "outputs": [
    {
     "name": "stdout",
     "output_type": "stream",
     "text": [
      "Mean L2 error of stress: 0.0905763654959716, std: 0.030218177095191978\n",
      "Index 0 for Best: 9530, error: 0.03369303544362386\n",
      "Index 1 for 32% percentile: 6342, error: 0.07577503224213918\n",
      "Index 2 for 64% percentile: 10004, error: 0.09348162015279134\n",
      "Index 3 for 99% percentile: 7869, error: 0.18843374649683634\n"
     ]
    },
    {
     "data": {
      "image/png": "[encoded data removed]",
      "text/plain": [
       "<Figure size 480x360 with 1 Axes>"
      ]
     },
     "metadata": {},
     "output_type": "display_data"
    }
   ],
   "source": [
    "\n",
    "\n",
    "error_s = cal_l2_error(su_pred_test, su_true_test)\n",
    "mean, std = np.mean(error_s), np.std(error_s)\n",
    "sort_idx = np.argsort(error_s)\n",
    "fig = plt.figure(figsize=(4.8, 3.6))\n",
    "ax = plt.subplot(1, 1, 1)\n",
    "\n",
    "_ = ax.hist(error_s[sort_idx[:-2]], bins=20,\n",
    "            color=\"skyblue\", edgecolor=\"black\")\n",
    "ax.set_xlabel(\"L2 relative error\")\n",
    "ax.set_ylabel(\"Frequency\")\n",
    "\n",
    "print(f\"Mean L2 error of stress: {mean}, std: {std}\")\n",
    "\n",
    "\n",
    "titles = [\"Best\", \"32% percentile\", \"64% percentile\", \"99% percentile\"]\n",
    "min_index = sort_idx[0]\n",
    "max_index = sort_idx[int(len(sort_idx)*0.99-1)]\n",
    "median_index = sort_idx[int(len(sort_idx) * 0.32)]\n",
    "median_index2 = sort_idx[int(len(sort_idx) * 0.64)]\n",
    "indices = np.array([min_index, median_index, median_index2, max_index])\n",
    "for i in range(len(indices)):\n",
    "    print(\n",
    "        f\"Index {i} for {titles[i]}: {indices[i]}, error: {error_s[indices[i]]}\")\n",
    "\n"
   ]
  },
  {
   "cell_type": "code",
   "execution_count": 12,
   "metadata": {},
   "outputs": [],
   "source": [
    "def get_pvstyle_cells(cells_np):\n",
    "    \"\"\"cells_np is a numpy array of shape (N, 4)\"\"\"\n",
    "    cell_types = np.zeros(len(cells_np), dtype=int)\n",
    "    cells = np.empty((0,), dtype=int)\n",
    "    for i, c in enumerate(cells_np):\n",
    "        c = c-1  # abaqus uses 1-based index\n",
    "        if c[-1] == c[-2]:\n",
    "            cell_types[i] = pv.CellType.TRIANGLE\n",
    "            cells = np.append(cells, np.array([3, *(c[:-1])]))\n",
    "        else:\n",
    "            cell_types[i] = pv.CellType.QUAD\n",
    "            cells = np.append(cells, np.array([4, *c]))\n",
    "    return cells, cell_types\n",
    "\n",
    "\n",
    "def plot_results(su_true, su_pred, cells_np, verts,\n",
    "                 label=\"Mises stress [MPa]\", opacity=1.0,\n",
    "                 cmap=\"viridis\", pc_color='green', point_size=8.0,\n",
    "                 notebook=None, show_edges=True,\n",
    "                 html_file=None, window_size=(1024, 256)):\n",
    "    \"\"\"\n",
    "    su_true: (N,8,3)\n",
    "    \"\"\"\n",
    "    Nt = su_true.shape[1]\n",
    "    max_s, min_s = np.max(su_true[:, -1, 0]), np.min(su_true[:, -1, 0])\n",
    "    error_s = np.abs(su_true[:, -1, 0]-su_pred[:, -1, 0])\n",
    "    max_e, min_e = np.max(error_s), np.min(error_s)\n",
    "    cells, cell_types = get_pvstyle_cells(cells_np)\n",
    "    meshes_t = []\n",
    "    meshes_p = []\n",
    "    plotter = pv.Plotter(shape=(3, Nt), notebook=notebook,\n",
    "                         window_size=window_size, border=False)\n",
    "    lables_t = [\n",
    "        f\"True Mises stress [MPa] at strain = {((i)*3.2+4):.1f}%\" for i in range(Nt)]\n",
    "    lables_p = [\n",
    "        f\"Pred. Mises stress [MPa] at strain = {((i)*3.2+4):.1f}%\" for i in range(Nt)]\n",
    "    lables_e = [\n",
    "        f\"Abs. error [MPa] at strain = {((i)*3.2+4):.1f}%\" for i in range(Nt)]\n",
    "    for i in range(Nt):\n",
    "        sigma_true, sigma_pred = su_true[:, i, 0], su_pred[:, i, 0]\n",
    "        error = np.abs(sigma_true-sigma_pred)\n",
    "        defomred_verts_t = verts + su_true[:, i, 1:3]\n",
    "        defomred_verts_t = np.hstack(\n",
    "            (defomred_verts_t, np.zeros((defomred_verts_t.shape[0], 1))))\n",
    "\n",
    "        mesh_t = pv.UnstructuredGrid(\n",
    "            cells, cell_types, defomred_verts_t)\n",
    "        mesh_t.point_data[lables_t[i]] = sigma_true\n",
    "        plotter.subplot(0, i)\n",
    "        plotter.add_mesh(mesh_t, scalars=lables_t[i],\n",
    "                         show_edges=show_edges, opacity=opacity, cmap=cmap, clim=[min_s, max_s])\n",
    "        plotter.view_xy()\n",
    "\n",
    "        defomred_verts_p = verts + su_pred[:, i, 1:3]\n",
    "        defomred_verts_p = np.hstack(\n",
    "            (defomred_verts_p, np.zeros((defomred_verts_p.shape[0], 1))))\n",
    "        mesh_p = pv.UnstructuredGrid(\n",
    "            cells, cell_types, defomred_verts_p)\n",
    "        mesh_p.point_data[lables_p[i]] = sigma_pred\n",
    "        plotter.subplot(1, i)\n",
    "        plotter.add_mesh(mesh_p, scalars=lables_p[i],\n",
    "                         show_edges=show_edges, opacity=opacity,\n",
    "                         cmap=cmap, clim=[min_s, max_s])\n",
    "        plotter.view_xy()\n",
    "\n",
    "        mesh_e = pv.UnstructuredGrid(\n",
    "            cells, cell_types, defomred_verts_t)\n",
    "        mesh_e.point_data[lables_e[i]] = error\n",
    "        plotter.subplot(2, i)\n",
    "        plotter.add_mesh(mesh_e, scalars=lables_e[i],\n",
    "                         show_edges=show_edges, opacity=opacity, cmap=cmap, clim=[min_e, max_e])\n",
    "        plotter.view_xy()\n",
    "\n",
    "    plotter.show()\n",
    "\n",
    "\n",
    "def plot_results_animation(file_name,pc, su_true, su_pred, cells_np, verts,\n",
    "                           label=\"Mises stress [MPa]\", opacity=1.0,\n",
    "                           cmap=\"viridis\", fps=10,pc_color='green', point_size=8.0,\n",
    "                           notebook=None, show_edges=True,\n",
    "                           window_size=(2548, 768)):\n",
    "    \"\"\"\n",
    "    su_true: (N,Nt,3)\n",
    "    \"\"\"\n",
    "    cells, cell_types = get_pvstyle_cells(cells_np)\n",
    "\n",
    "    Nt = su_true.shape[1]\n",
    "    max_s, min_s = np.max(su_true[:, -1, 0]), np.min(su_true[:, -1, 0])\n",
    "    error_s = np.abs(su_true[:, -1, 0]-su_pred[:, -1, 0])\n",
    "    max_e, min_e = np.max(error_s), np.min(error_s)\n",
    "\n",
    "    plotter = pv.Plotter(shape=(1, 4), notebook=notebook,\n",
    "                         window_size=window_size, border=False)\n",
    "    text_actor = plotter.add_text(\n",
    "        \"strain = 0\", position='upper_left', font_size=20)\n",
    "\n",
    "    # Open a mv file\n",
    "    extnsion = file_name.split('.', 1)[-1]\n",
    "    if extnsion == 'gif':\n",
    "        plotter.open_gif(file_name, fps=fps)\n",
    "    else:\n",
    "        plotter.open_movie(file_name, framerate=fps)\n",
    "        # plotter.show(auto_close=False)\n",
    "\n",
    "    plotter.subplot(0, 0)\n",
    "    pc = np.hstack((pc, np.zeros((pc.shape[0], 1))))\n",
    "    pc_mesh = pv.PolyData(pc)\n",
    "    plotter.add_mesh(pc_mesh, color=pc_color, point_size=point_size)\n",
    "    plotter.view_xy()\n",
    "\n",
    "    lables_t = \"True Mises stress [MPa], True deformation\"\n",
    "    lables_p = \"Pred. Mises stress [MPa], Pred. deformation\"\n",
    "    lables_e = \"Abs. error [MPa], True deformation\"\n",
    "    i = 0\n",
    "    sigma_true, sigma_pred = su_true[:, i, 0], su_pred[:, i, 0]\n",
    "    error = np.abs(sigma_true-sigma_pred)\n",
    "\n",
    "    defomred_verts_t = verts + su_true[:, i, 1:3]\n",
    "    defomred_verts_t = np.hstack(\n",
    "        (defomred_verts_t, np.zeros((defomred_verts_t.shape[0], 1))))\n",
    "    mesh_t = pv.UnstructuredGrid(\n",
    "        cells, cell_types, defomred_verts_t)\n",
    "    mesh_t[lables_t] = sigma_true\n",
    "    plotter.subplot(0, 1)\n",
    "    plotter.add_mesh(mesh_t, scalars=lables_t,\n",
    "                     show_edges=show_edges, opacity=opacity, cmap=cmap, clim=[min_s, max_s])\n",
    "    plotter.view_xy()\n",
    "\n",
    "    defomred_verts_p = verts + su_pred[:, i, 1:3]\n",
    "    defomred_verts_p = np.hstack(\n",
    "        (defomred_verts_p, np.zeros((defomred_verts_p.shape[0], 1))))\n",
    "    mesh_p = pv.UnstructuredGrid(\n",
    "        cells, cell_types, defomred_verts_p)\n",
    "    mesh_p[lables_p] = sigma_pred\n",
    "    plotter.subplot(0, 2)\n",
    "    plotter.add_mesh(mesh_p, scalars=lables_p,\n",
    "                     show_edges=show_edges, opacity=opacity,\n",
    "                     cmap=cmap, clim=[min_s, max_s])\n",
    "    plotter.view_xy()\n",
    "\n",
    "    mesh_e = pv.UnstructuredGrid(\n",
    "        cells, cell_types, defomred_verts_t)\n",
    "    mesh_e[lables_e] = error\n",
    "    plotter.subplot(0, 3)\n",
    "    plotter.add_mesh(mesh_e, scalars=lables_e,\n",
    "                     show_edges=show_edges, opacity=opacity, cmap=cmap, clim=[min_e, max_e])\n",
    "    plotter.view_xy()\n",
    "\n",
    "    plotter.write_frame()\n",
    "\n",
    "    for i in range(1, Nt):\n",
    "        text_actor.set_text('upper_left', f\"strain = {i*0.8:.1f}%\")\n",
    "        sigma_true, sigma_pred = su_true[:, i, 0], su_pred[:, i, 0]\n",
    "        error = np.abs(sigma_true-sigma_pred)\n",
    "\n",
    "        defomred_verts_t = verts + su_true[:, i, 1:3]\n",
    "        defomred_verts_t = np.hstack(\n",
    "            (defomred_verts_t, np.zeros((defomred_verts_t.shape[0], 1))))\n",
    "\n",
    "        defomred_verts_p = verts + su_pred[:, i, 1:3]\n",
    "        defomred_verts_p = np.hstack(\n",
    "            (defomred_verts_p, np.zeros((defomred_verts_p.shape[0], 1))))\n",
    "\n",
    "        mesh_t[lables_t] = sigma_true\n",
    "        mesh_t.points = defomred_verts_t\n",
    "        mesh_p[lables_p] = sigma_pred\n",
    "        mesh_p.points = defomred_verts_p\n",
    "        mesh_e[lables_e] = error\n",
    "        mesh_e.points = defomred_verts_t\n",
    "\n",
    "        plotter.write_frame()\n",
    "    # Be sure to close the plotter when finished\n",
    "    plotter.close()\n",
    "\n"
   ]
  },
  {
   "cell_type": "code",
   "execution_count": 13,
   "metadata": {},
   "outputs": [],
   "source": [
    "# performance on samples with cells; only the first 10000 samples have cells\n",
    "cells10k = configs.LoadDataMicroSturcGeo(load_cells=\"ONLY\")\n",
    "sample_with_cells = np.where(sample_ids_test < 10000)[0]\n",
    "error_s_with_cells = error_s[sample_with_cells]\n",
    "sample_ids_test_with_cells = sample_ids_test[sample_with_cells]\n",
    "s_pred_test_with_cells = [su_pred_test[i] for i in sample_with_cells]\n",
    "s_true_test_with_cells = [su_true_test[i] for i in sample_with_cells]\n",
    "verts_all_test_with_cells = [verts_all_test[i] for i in sample_with_cells]\n",
    "pc_all_test_with_cells = [pc_all_test[i] for i in sample_with_cells]\n",
    "sort_idx_with_cells = np.argsort(error_s_with_cells)\n"
   ]
  },
  {
   "cell_type": "code",
   "execution_count": 14,
   "metadata": {},
   "outputs": [
    {
     "name": "stdout",
     "output_type": "stream",
     "text": [
      "L2 realtive error of the best test sample: 0.0365149254600207\n"
     ]
    },
    {
     "data": {
      "application/vnd.jupyter.widget-view+json": {
       "model_id": "e592f65a5d19497aa0c6374fc62516d8",
       "version_major": 2,
       "version_minor": 0
      },
      "text/plain": [
       "EmbeddableWidget(value='<iframe srcdoc=\"<!DOCTYPE html>\\n<html>\\n  <head>\\n    <meta http-equiv=&quot;Content-…"
      ]
     },
     "metadata": {},
     "output_type": "display_data"
    }
   ],
   "source": [
    "# plot the best sample\n",
    "index = sort_idx_with_cells[0]\n",
    "print(\n",
    "    f\"L2 realtive error of the best test sample: {error_s_with_cells[index]}\")\n",
    "cells_test = cells10k[sample_ids_test_with_cells[index]]\n",
    "verts_test = verts_all_test_with_cells[index]\n",
    "True_s_test = s_true_test_with_cells[index]\n",
    "Pred_s_test = s_pred_test_with_cells[index]\n",
    "surface_pc_test = pc_all_test_with_cells[index]\n",
    "mask = surface_pc_test != configs.PADDING_VALUE\n",
    "pc_no_padded = surface_pc_test[mask].numpy().reshape(-1, 2)\n",
    "plot_results(True_s_test[:, 5::4], Pred_s_test[:, 5::4], cells_test,\n",
    "             verts_test, cmap=\"jet\", show_edges=True, notebook=True, html_file=None, window_size=window_size)\n",
    "if pv_bc != \"static\":\n",
    "    file_name = \"./images/puc_best_sample.gif\"\n",
    "    plot_results_animation(file_name,pc_no_padded, True_s_test, Pred_s_test, cells_test,\n",
    "                           verts_test, cmap=\"jet\", show_edges=True, fps=5, notebook=True)\n"
   ]
  },
  {
   "cell_type": "code",
   "execution_count": 20,
   "metadata": {},
   "outputs": [
    {
     "name": "stdout",
     "output_type": "stream",
     "text": [
      "L2 realtive error of the median test sample: 0.09080782532691956\n"
     ]
    },
    {
     "data": {
      "application/vnd.jupyter.widget-view+json": {
       "model_id": "bf3242fecf84420b89f6355fab581fb7",
       "version_major": 2,
       "version_minor": 0
      },
      "text/plain": [
       "EmbeddableWidget(value='<iframe srcdoc=\"<!DOCTYPE html>\\n<html>\\n  <head>\\n    <meta http-equiv=&quot;Content-…"
      ]
     },
     "metadata": {},
     "output_type": "display_data"
    }
   ],
   "source": [
    "# plot the median sample\n",
    "index = sort_idx_with_cells[int(len(sort_idx_with_cells)*0.5)-2]\n",
    "print(\n",
    "    f\"L2 realtive error of the median test sample: {error_s_with_cells[index]}\")\n",
    "cells_test = cells10k[sample_ids_test_with_cells[index]]\n",
    "verts_test = verts_all_test_with_cells[index]\n",
    "True_s_test = s_true_test_with_cells[index]\n",
    "Pred_s_test = s_pred_test_with_cells[index]\n",
    "surface_pc_test = pc_all_test_with_cells[index]\n",
    "mask = surface_pc_test != configs.PADDING_VALUE\n",
    "pc_no_padded = surface_pc_test[mask].numpy().reshape(-1, 2)\n",
    "plot_results(True_s_test[:, 5::4], Pred_s_test[:, 5::4], cells_test,\n",
    "             verts_test, cmap=\"jet\", show_edges=True, notebook=True, html_file=None, window_size=window_size)\n",
    "\n",
    "if b_GIF:\n",
    "    file_name = \"./images/puc_median_sample.gif\"\n",
    "    plot_results_animation(file_name,pc_no_padded, True_s_test, Pred_s_test, cells_test,\n",
    "                           verts_test, cmap=\"jet\", show_edges=True, fps=5, notebook=True)"
   ]
  },
  {
   "cell_type": "code",
   "execution_count": 22,
   "metadata": {},
   "outputs": [
    {
     "name": "stdout",
     "output_type": "stream",
     "text": [
      "L2 realtive error of the worst test sample: 0.1575501561164856\n"
     ]
    },
    {
     "data": {
      "application/vnd.jupyter.widget-view+json": {
       "model_id": "90833581e61e4067bf0e43b0a49d6f75",
       "version_major": 2,
       "version_minor": 0
      },
      "text/plain": [
       "EmbeddableWidget(value='<iframe srcdoc=\"<!DOCTYPE html>\\n<html>\\n  <head>\\n    <meta http-equiv=&quot;Content-…"
      ]
     },
     "metadata": {},
     "output_type": "display_data"
    }
   ],
   "source": [
    "# plot the worst sample\n",
    "index = sort_idx_with_cells[int(len(sort_idx_with_cells)*0.95)-2]\n",
    "print(\n",
    "    f\"L2 realtive error of the worst test sample: {error_s_with_cells[index]}\")\n",
    "cells_test = cells10k[sample_ids_test_with_cells[index]]\n",
    "verts_test = verts_all_test_with_cells[index]\n",
    "True_s_test = s_true_test_with_cells[index]\n",
    "Pred_s_test = s_pred_test_with_cells[index]\n",
    "surface_pc_test = pc_all_test_with_cells[index]\n",
    "mask = surface_pc_test != configs.PADDING_VALUE\n",
    "pc_no_padded = surface_pc_test[mask].numpy().reshape(-1, 2)\n",
    "plot_results(True_s_test[:, 5::4], Pred_s_test[:, 5::4], cells_test,\n",
    "             verts_test, cmap=\"jet\", show_edges=True, notebook=True, html_file=None, window_size=window_size)\n",
    "\n",
    "if b_GIF:\n",
    "    file_name = \"./images/puc_95percentile_sample.gif\"\n",
    "    plot_results_animation(file_name,pc_no_padded, True_s_test, Pred_s_test, cells_test,\n",
    "                           verts_test, cmap=\"jet\", show_edges=True, fps=5, notebook=True)"
   ]
  }
 ],
 "metadata": {
  "kernelspec": {
   "display_name": "base",
   "language": "python",
   "name": "python3"
  },
  "language_info": {
   "codemirror_mode": {
    "name": "ipython",
    "version": 3
   },
   "file_extension": ".py",
   "mimetype": "text/x-python",
   "name": "python",
   "nbconvert_exporter": "python",
   "pygments_lexer": "ipython3",
   "version": "3.10.9"
  }
 },
 "nbformat": 4,
 "nbformat_minor": 2
}
